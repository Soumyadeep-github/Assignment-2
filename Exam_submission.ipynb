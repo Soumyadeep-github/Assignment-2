{
 "cells": [
  {
   "cell_type": "markdown",
   "metadata": {},
   "source": [
    "# Analysing data produced by the weather station"
   ]
  },
  {
   "cell_type": "markdown",
   "metadata": {},
   "source": [
    "The raw data contains information sent by 2 inverters, 1 energy meter (named MFM) and 1 meteorological substation (named WMS) from a station. The time stamps for all the raw data provided by these equipments via cloud, have been removed and reattached at the very beginning of the text files. They have been arranged in the following order : Station ID -> Year -> Year - Month -> Substation ID ->  .txt files.\n",
    "\n",
    "This was achieved by using the following functions:\n",
    "- set_columns()\n",
    "- dir_traversal()\n",
    "- transform_and_write()\n",
    "\n",
    "set_columns() \n",
    "-\n",
    "This was utilised to drop and then concatenate the timestamp column to the beginning of the file.\n",
    "\n",
    "dir_traversal()\n",
    "-\n",
    "The above function was used to create directions and subdirectories to store the transformed files.\n",
    "\n",
    "transform_and_write()\n",
    "-\n",
    "This one was used in conjunction with the other two functions to achieve the goal. It helped processing the data from the source file directories to the destination file directory."
   ]
  },
  {
   "cell_type": "markdown",
   "metadata": {},
   "source": [
    "*set_columns()*\n"
   ]
  },
  {
   "cell_type": "code",
   "execution_count": null,
   "metadata": {},
   "outputs": [],
   "source": [
    "import pandas as pd\n",
    "\n",
    "def set_columns(inp, ref_data):\n",
    "    \n",
    "    input_data = pd.read_csv(inp,sep='\\t')\n",
    "    ref_data = pd.read_csv(ref_data,sep='\\t')\n",
    "    \n",
    "    if input_data.shape[1]== 54:\n",
    "        inverter = input_data[['i32']]\n",
    "        input_data.drop('i32',axis=1,inplace=True)\n",
    "        input_data.insert(0,'Timestamp',inverter.iloc[0:])\n",
    "        input_data.rename(columns={input_data.columns.values[i]:ref_data.columns.values[i] for i in range(len(input_data.columns.values))},inplace = True)\n",
    "        return input_data.to_csv(sep=\"\\t\")\n",
    "    \n",
    "    elif input_data.shape[1] == 35:\n",
    "        wms = input_data[['w23']]\n",
    "        input_data.drop('w23',axis=1,inplace=True)\n",
    "        input_data.insert(0,'Timestamp',wms.iloc[0:])        \n",
    "        input_data.rename(columns={input_data.columns.values[i]:ref_data.columns.values[i] for i in range(len(input_data.columns.values))},inplace = True)\n",
    "        return input_data.to_csv(sep=\"\\t\")\n",
    "    \n",
    "    else:\n",
    "        mfm = input_data[['m63']]\n",
    "        input_data.drop('m63',axis=1,inplace=True)\n",
    "        input_data.insert(0,'Timestamp',mfm.iloc[0:])\n",
    "        input_data.rename(columns={input_data.columns.values[i]:ref_data.columns.values[i] for i in range(len(input_data.columns.values))},inplace = True)\n",
    "        return input_data.to_csv(sep=\"\\t\")"
   ]
  },
  {
   "cell_type": "markdown",
   "metadata": {},
   "source": [
    "*dir_traversal()*"
   ]
  },
  {
   "cell_type": "code",
   "execution_count": null,
   "metadata": {},
   "outputs": [],
   "source": [
    "import distutils.dir_util as d_util\n",
    "\n",
    "def dir_traversal(basepath,copytopath):\n",
    "    for entry in os.listdir(basepath):\n",
    "        \n",
    "        if os.path.isfile(entry)==True:\n",
    "            break\n",
    "            \n",
    "        else:\n",
    "            print(entry)\n",
    "            d_util.mkpath(os.path.join(copytopath,entry))\n",
    "            c=os.chdir(os.path.join(copytopath,entry))\n",
    "            d=os.getcwd()\n",
    "            \n",
    "            a=os.chdir(os.path.join(basepath,entry))\n",
    "            b=os.getcwd()\n",
    "            \n",
    "            dir_traversal(b,d)\n",
    "            \n",
    "copytopath='C:\\\\Users\\\\soumy\\\\Desktop\\\\Test1'\n",
    "basepath = r'C:\\Users\\soumy\\Desktop\\Raw\\Raw'\n",
    "        \n",
    "dir_traversal(basepath,copytopath)"
   ]
  },
  {
   "cell_type": "markdown",
   "metadata": {},
   "source": [
    "*transform_and_write()*"
   ]
  },
  {
   "cell_type": "code",
   "execution_count": null,
   "metadata": {},
   "outputs": [],
   "source": [
    "def transform_and_write(root,ref_data, year, month):\n",
    "    for path, direc_names, files in os.walk(root):\n",
    "        print('Current directory: ', path)\n",
    "        for file_name in files:\n",
    "            \n",
    "            if year in path:\n",
    "                \n",
    "                machines = ['Inverter_1', 'Inverter_2','MFM', 'WMS']\n",
    "                \n",
    "                for i in range(len(machines)):\n",
    "                    \n",
    "                    if f'{year}-{month}\\\\{machines[i]}' in path:\n",
    "                        \n",
    "                        with open(os.path.join(path,file_name)) as f:\n",
    "                            with open(f\"C:\\\\Users\\\\soumy\\\\Desktop\\\\finalrepo\\\\[IN-023C]\\\\{year}\\\\{year}-{month}\\\\{machines[i]}\\\\{file_name}\",'w+') as f1:\n",
    "                                f1.write(set_columns(f,ref_data[i]))\n",
    "                        \n",
    "                        print(f\"Copied to: C:\\\\Users\\\\soumy\\\\Desktop\\\\finalrepo\\\\[IN-023C]\\\\{year}\\\\{year}-{month}\\\\{machines[i]}\\\\{file_name}\")\n",
    "                    \n",
    "                \n",
    "                \n",
    "root= r\"C:\\Users\\soumy\\Desktop\\Raw\\Raw\\[IN-023C]\"\n",
    "ref_data = [r\"C:\\Users\\soumy\\Desktop\\SampleGen1\\Gen1\\[IN-023C]\\2018\\2018-12\\Inverter_1\\[IN-023C]-I1-2018-12-01.txt\",r\"C:\\Users\\soumy\\Desktop\\SampleGen1\\Gen1\\[IN-023C]\\2018\\2018-12\\Inverter_2\\[IN-023C]-I2-2018-12-01.txt\",r\"C:\\Users\\soumy\\Desktop\\SampleGen1\\Gen1\\[IN-023C]\\2018\\2018-12\\MFM\\[IN-023C]-MFM1-2018-12-01.txt\",r\"C:\\Users\\soumy\\Desktop\\SampleGen1\\Gen1\\[IN-023C]\\2018\\2018-12\\WMS\\[IN-023C]-WMS-2018-12-01.txt\"]\n",
    "\n",
    "year = ['2018','2019']\n",
    "month = ['12','01']\n",
    "\n",
    "for i in range(len(year)):\n",
    "    transform_and_write(root,ref_data, year[i],month[i])\n",
    "    "
   ]
  },
  {
   "cell_type": "markdown",
   "metadata": {},
   "source": [
    "Thank you for your time! Good day!\n",
    "-"
   ]
  }
 ],
 "metadata": {
  "kernelspec": {
   "display_name": "Python 3",
   "language": "python",
   "name": "python3"
  },
  "language_info": {
   "codemirror_mode": {
    "name": "ipython",
    "version": 3
   },
   "file_extension": ".py",
   "mimetype": "text/x-python",
   "name": "python",
   "nbconvert_exporter": "python",
   "pygments_lexer": "ipython3",
   "version": "3.8.1"
  }
 },
 "nbformat": 4,
 "nbformat_minor": 2
}
